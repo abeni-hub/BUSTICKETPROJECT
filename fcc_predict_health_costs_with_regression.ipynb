{
  "cells": [
    {
      "cell_type": "markdown",
      "metadata": {
        "id": "view-in-github",
        "colab_type": "text"
      },
      "source": [
        "<a href=\"https://colab.research.google.com/github/abeni-hub/BUSTICKETPROJECT/blob/master/fcc_predict_health_costs_with_regression.ipynb\" target=\"_parent\"><img src=\"https://colab.research.google.com/assets/colab-badge.svg\" alt=\"Open In Colab\"/></a>"
      ]
    },
    {
      "cell_type": "code",
      "execution_count": null,
      "metadata": {
        "id": "1rRo8oNqZ-Rj"
      },
      "outputs": [],
      "source": [
        "# Import libraries. You may or may not use all of these.\n",
        "!pip install -q git+https://github.com/tensorflow/docs\n",
        "import matplotlib.pyplot as plt\n",
        "import numpy as np\n",
        "import pandas as pd\n",
        "\n",
        "try:\n",
        "  # %tensorflow_version only exists in Colab.\n",
        "  %tensorflow_version 2.x\n",
        "except Exception:\n",
        "  pass\n",
        "import tensorflow as tf\n",
        "\n",
        "from tensorflow import keras\n",
        "from tensorflow.keras import layers\n",
        "\n",
        "import tensorflow_docs as tfdocs\n",
        "import tensorflow_docs.plots\n",
        "import tensorflow_docs.modeling"
      ]
    },
    {
      "cell_type": "code",
      "source": [
        "!apt install wget"
      ],
      "metadata": {
        "id": "FmLtRn9Ayf4M"
      },
      "execution_count": null,
      "outputs": []
    },
    {
      "cell_type": "code",
      "execution_count": null,
      "metadata": {
        "id": "CiX2FI4gZtTt"
      },
      "outputs": [],
      "source": [
        "# Import data\n",
        "!wget https://cdn.freecodecamp.org/project-data/health-costs/insurance.csv\n",
        "dataset = pd.read_csv('insurance.csv')\n",
        "dataset.tail()"
      ]
    },
    {
      "cell_type": "code",
      "execution_count": null,
      "metadata": {
        "id": "LcopvQh3X-kX"
      },
      "outputs": [],
      "source": [
        "dataset.info()"
      ]
    },
    {
      "cell_type": "code",
      "source": [
        "# Replacing string values to numbers\n",
        "dataset['sex'] = dataset['sex'].replace(['female', 'male'], [0, 1])\n",
        "dataset['smoker'] = dataset['smoker'].replace(['no', 'yes'], [0, 1])\n",
        "dataset['region'] = dataset['region'].apply({'southwest':1,'southeast':2 ,'northwest':3,'northeast': 4}.get)"
      ],
      "metadata": {
        "id": "OAVyfbP01fpF"
      },
      "execution_count": null,
      "outputs": []
    },
    {
      "cell_type": "code",
      "source": [
        "# Encoding categorial data\n",
        "from sklearn.compose import ColumnTransformer\n",
        "from sklearn.preprocessing import OneHotEncoder\n",
        "ct = ColumnTransformer(transformers=[('encoder', OneHotEncoder(),[1,4,5])], remainder='passthrough')\n",
        "dataset = np.array(ct.fit_transform(dataset))"
      ],
      "metadata": {
        "id": "zJMumMeD2gHT"
      },
      "execution_count": null,
      "outputs": []
    },
    {
      "cell_type": "code",
      "source": [
        "# splitting the dataset into the Training Set and Test Set\n",
        "from sklearn.model_selection import train_test_split\n",
        "train_dataset, test_dataset = train_test_split(dataset, test_size=0.2, random_state=0)"
      ],
      "metadata": {
        "id": "oM-kFhCU3qFp"
      },
      "execution_count": null,
      "outputs": []
    },
    {
      "cell_type": "code",
      "source": [
        "# TO dataframe inorder to pop\n",
        "train_dataset = pd.DataFrame(train_dataset)\n",
        "test_dataset = pd.DataFrame(test_dataset)"
      ],
      "metadata": {
        "id": "VilUnIxP4MNN"
      },
      "execution_count": null,
      "outputs": []
    },
    {
      "cell_type": "code",
      "source": [
        "# Pop the 'expenses' column\n",
        "train_labels = train_dataset.pop(train_dataset.columns[-1])\n",
        "test_labels = test_dataset.pop(test_dataset.columns[-1])"
      ],
      "metadata": {
        "id": "LKDbwnEH4XJO"
      },
      "execution_count": null,
      "outputs": []
    },
    {
      "cell_type": "code",
      "source": [
        "from sklearn.preprocessing import StandardScaler\n",
        "sc = StandardScaler()\n",
        "train_dataset = sc.fit_transform(train_dataset)\n",
        "test_dataset = sc.transform(test_dataset)"
      ],
      "metadata": {
        "id": "B5Gfv1HX7OPP"
      },
      "execution_count": null,
      "outputs": []
    },
    {
      "cell_type": "code",
      "source": [
        "# BUILDING THE MODEL\n",
        "\n",
        "# Initializing the Model\n",
        "model = tf.keras.models.Sequential()\n",
        "\n",
        "# Adding the Input Layer and the first hidden layer\n",
        "model.add(tf.keras.layers.Dense(units=6, activation='relu', input_shape=[train_dataset.shape[1]]))\n",
        "model.add(tf.keras.layers.Dense(units=6, activation='relu'))\n",
        "\n",
        "# Adding the Output Layer\n",
        "model.add(tf.keras.layers.Dense(units=1 , activation = 'linear'))\n",
        "\n",
        "# Compiling the Model\n",
        "from keras.optimizers import SGD\n",
        "opt_einsum = SGD(learning_rate=0.01)\n",
        "model.compile(optimizer=opt_einsum, loss='mean_squared_error', metrics=['mae','mse'])\n",
        "\n",
        "model.fit(train_dataset, train_labels,\n",
        "          batch_size = 32,\n",
        "          epochs = 100,\n",
        "          validation_data = (test_dataset, test_labels),\n",
        "          verbose = 2)\n"
      ],
      "metadata": {
        "id": "i4m_9PjK7Tfk"
      },
      "execution_count": null,
      "outputs": []
    },
    {
      "cell_type": "code",
      "execution_count": null,
      "metadata": {
        "id": "Xe7RXH3N3CWU"
      },
      "outputs": [],
      "source": [
        "# RUN THIS CELL TO TEST YOUR MODEL. DO NOT MODIFY CONTENTS.\n",
        "# Test model by checking how well the model generalizes using the test set.\n",
        "loss, mae, mse = model.evaluate(test_dataset, test_labels, verbose=2)\n",
        "\n",
        "print(\"Testing set Mean Abs Error: {:5.2f} expenses\".format(mae))\n",
        "\n",
        "if mae < 3500:\n",
        "  print(\"You passed the challenge. Great job!\")\n",
        "else:\n",
        "  print(\"The Mean Abs Error must be less than 3500. Keep trying.\")\n",
        "\n",
        "# Plot predictions.\n",
        "test_predictions = model.predict(test_dataset).flatten()\n",
        "\n",
        "a = plt.axes(aspect='equal')\n",
        "plt.scatter(test_labels, test_predictions)\n",
        "plt.xlabel('True values (expenses)')\n",
        "plt.ylabel('Predictions (expenses)')\n",
        "lims = [0, 50000]\n",
        "plt.xlim(lims)\n",
        "plt.ylim(lims)\n",
        "_ = plt.plot(lims,lims)\n"
      ]
    }
  ],
  "metadata": {
    "colab": {
      "name": "fcc_predict_health_costs_with_regression.ipynb",
      "private_outputs": true,
      "provenance": [],
      "toc_visible": true,
      "include_colab_link": true
    },
    "kernelspec": {
      "display_name": "Python 3",
      "name": "python3"
    }
  },
  "nbformat": 4,
  "nbformat_minor": 0
}